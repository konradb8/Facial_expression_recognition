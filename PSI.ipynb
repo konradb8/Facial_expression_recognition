{
 "cells": [
  {
   "cell_type": "code",
   "execution_count": null,
   "id": "dc02b88f",
   "metadata": {},
   "outputs": [],
   "source": [
    "import json\n",
    "import os\n",
    "import shutil\n",
    "import kagglehub\n",
    "import torch\n",
    "from torchvision import datasets, transforms\n",
    "from torch.utils.data import DataLoader"
   ]
  },
  {
   "cell_type": "code",
   "execution_count": null,
   "id": "13d8e5c0",
   "metadata": {},
   "outputs": [],
   "source": [
    "dataset_path = kagglehub.dataset_download(\"astraszab/facial-expression-dataset-image-folders-fer2013\")\n",
    "\n",
    "dest_dir = \".\"\n",
    "os.makedirs(dest_dir, exist_ok=True)\n",
    "for file in os.listdir(dataset_path):\n",
    "    shutil.move(os.path.join(dataset_path, file), os.path.join(dest_dir, file))\n",
    "print(\"Pobrano dane do:\", dataset_path)"
   ]
  },
  {
   "cell_type": "code",
   "execution_count": null,
   "id": "67f49ebe",
   "metadata": {},
   "outputs": [],
   "source": []
  }
 ],
 "metadata": {
  "language_info": {
   "name": "python"
  }
 },
 "nbformat": 4,
 "nbformat_minor": 5
}
